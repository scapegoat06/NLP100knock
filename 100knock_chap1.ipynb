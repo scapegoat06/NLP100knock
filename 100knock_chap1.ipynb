{
 "cells": [
  {
   "cell_type": "markdown",
   "metadata": {},
   "source": [
    "### 00 文字列の逆順  \n",
    "文字列\"stressed\"の文字を逆に（末尾から先頭に向かって）並べた文字列を得よ．\n"
   ]
  },
  {
   "cell_type": "code",
   "execution_count": 1,
   "metadata": {
    "collapsed": false
   },
   "outputs": [
    {
     "name": "stdout",
     "output_type": "stream",
     "text": [
      "desserts\n"
     ]
    }
   ],
   "source": [
    "input = \"stressed\"\n",
    "def inverse(input):\n",
    "    return input[::-1]\n",
    "output = inverse(input)\n",
    "print(output)"
   ]
  },
  {
   "cell_type": "markdown",
   "metadata": {},
   "source": [
    "### 01 「パタトクカシーー」   \n",
    "「パタトクカシーー」という文字列の1,3,5,7文字目を取り出して連結した文字列を得よ．"
   ]
  },
  {
   "cell_type": "code",
   "execution_count": 2,
   "metadata": {
    "collapsed": false
   },
   "outputs": [
    {
     "name": "stdout",
     "output_type": "stream",
     "text": [
      "タクシー\n"
     ]
    }
   ],
   "source": [
    "input = \"パタトクカシーー\"\n",
    "def odd_extract(input):\n",
    "    return input[1::2]\n",
    "output = odd_extract(input)\n",
    "print(output)"
   ]
  },
  {
   "cell_type": "markdown",
   "metadata": {},
   "source": [
    "### 02. 「パトカー」＋「タクシー」＝「パタトクカシーー」  \n",
    "「パトカー」＋「タクシー」の文字を先頭から交互に連結して文字列「パタトクカシーー」を得よ．\n"
   ]
  },
  {
   "cell_type": "code",
   "execution_count": 4,
   "metadata": {
    "collapsed": false
   },
   "outputs": [
    {
     "name": "stdout",
     "output_type": "stream",
     "text": [
      " パタトクカシーー\n"
     ]
    }
   ],
   "source": [
    "input1 = \"パトカー\"\n",
    "input2 = \"タクシー\"\n",
    "def union(input1,input2):\n",
    "    tmp = \" \"\n",
    "    for i,j in zip(input1,input2):\n",
    "        tmp += i\n",
    "        tmp += j\n",
    "    return tmp\n",
    "output = union(input1,input2)\n",
    "print(output)"
   ]
  },
  {
   "cell_type": "markdown",
   "metadata": {},
   "source": [
    "### 03. 円周率  \n",
    "\"Now I need a drink, alcoholic of course, after the heavy lectures involving quantum mechanics.\"という文を単語に分解し，各単語の（アルファベットの）文字数を先頭から出現順に並べたリストを作成せよ．"
   ]
  },
  {
   "cell_type": "code",
   "execution_count": 6,
   "metadata": {
    "collapsed": false
   },
   "outputs": [
    {
     "name": "stdout",
     "output_type": "stream",
     "text": [
      "['mechanics', 'involving', 'alcoholic', 'lectures', 'quantum', 'course,', 'drink,', 'heavy', 'after', 'need', 'the', 'Now', 'of', 'a', 'I']\n"
     ]
    }
   ],
   "source": [
    "input = \"Now I need a drink, alcoholic of course, after the heavy lectures involving quantum mechanics\"\n",
    "def sort_words(input):\n",
    "    tmp = input.split()\n",
    "    return sorted(tmp, key=lambda x: len(x))[::-1]\n",
    "output = sort_words(input)\n",
    "print(output)"
   ]
  },
  {
   "cell_type": "markdown",
   "metadata": {},
   "source": [
    "### 04. 元素記号\n",
    "\"Hi He Lied Because Boron Could Not Oxidize Fluorine. New Nations Might Also Sign Peace Security Clause. Arthur King Can.\"という文を単語に分解し，1, 5, 6, 7, 8, 9, 15, 16, 19番目の単語は先頭の1文字，それ以外の単語は先頭に2文字を取り出し，取り出した文字列から単語の位置（先頭から何番目の単語か）への連想配列（辞書型もしくはマップ型）を作成せよ．\n"
   ]
  },
  {
   "cell_type": "code",
   "execution_count": 10,
   "metadata": {
    "collapsed": false
   },
   "outputs": [
    {
     "name": "stdout",
     "output_type": "stream",
     "text": [
      "{0: 'H', 1: 'He', 2: 'Li', 3: 'Be', 4: 'B', 5: 'C', 6: 'N', 7: 'O', 8: 'F', 9: 'Ne', 10: 'Na', 11: 'Mi', 12: 'Al', 13: 'Si', 14: 'P', 15: 'S', 16: 'Cl', 17: 'Ar', 18: 'Ki', 19: 'C'}\n"
     ]
    }
   ],
   "source": [
    "input = \"Hi He Lied Because Boron Could Not Oxidize Fluorine. \\\n",
    "        New Nations Might Also Sign Peace Security Clause. Arthur King Can.\"\n",
    "\n",
    "def genso(input):\n",
    "    one_key = [0,4,5,6,7,8,14,15,19]\n",
    "    ele_symbol = {}\n",
    "    words = input.split()\n",
    "    for i,word in enumerate(words):\n",
    "        if i in one_key:\n",
    "            ele_symbol[i] = word[0]\n",
    "        else:\n",
    "            ele_symbol[i] = word[:2]\n",
    "    return ele_symbol\n",
    "output = genso(input)\n",
    "print(output)"
   ]
  },
  {
   "cell_type": "markdown",
   "metadata": {},
   "source": [
    "### 05. n-gram  \n",
    "与えられたシーケンス（文字列やリストなど）からn-gramを作る関数を作成せよ．この関数を用い，\"I am an NLPer\"という文から単語bi-gram，文字bi-gramを得よ．\n"
   ]
  },
  {
   "cell_type": "code",
   "execution_count": 13,
   "metadata": {
    "collapsed": false
   },
   "outputs": [
    {
     "name": "stdout",
     "output_type": "stream",
     "text": [
      "['I am', 'am an', 'an NLPer']\n",
      "['I ', ' a', 'am', 'm ', ' a', 'an', 'n ', ' N', 'NL', 'LP', 'Pe', 'er']\n"
     ]
    }
   ],
   "source": [
    "input = \"I am an NLPer\"\n",
    "def bigram(input,type):\n",
    "    if type == \"word\":\n",
    "        tmp = input.split()\n",
    "        return [tmp[i]+\" \"+tmp[i+1] for i in range(len(tmp)-1)]\n",
    "    elif type == \"char\":\n",
    "        tmp = input\n",
    "        return [tmp[i]+tmp[i+1] for i in range(len(tmp)-1)]\n",
    "output1 = bigram(input,\"word\")\n",
    "print(output1)\n",
    "output2 = bigram(input,\"char\")\n",
    "print(output2)\n"
   ]
  },
  {
   "cell_type": "markdown",
   "metadata": {},
   "source": [
    "## 06. 集合\n",
    "\"paraparaparadise\"と\"paragraph\"に含まれる文字bi-gramの集合を，それぞれ, XとYとして求め，XとYの和集合，積集合，差集合を求めよ．さらに，'se'というbi-gramがXおよびYに含まれるかどうかを調べよ．"
   ]
  },
  {
   "cell_type": "code",
   "execution_count": 16,
   "metadata": {
    "collapsed": false
   },
   "outputs": [
    {
     "name": "stdout",
     "output_type": "stream",
     "text": [
      "和集合\n",
      "{'is', 'ar', 'ag', 'ap', 'ph', 'gr', 'ra', 'pa', 'ad', 'se', 'di'}\n",
      "積集合\n",
      "{'ar', 'ap', 'pa', 'ra'}\n",
      "差集合\n",
      "{'is', 'se', 'di', 'ad'}\n"
     ]
    }
   ],
   "source": [
    "X = set(bigram(\"paraparaparadise\",\"char\"))\n",
    "Y = set(bigram(\"paragraph\",\"char\"))\n",
    "        \n",
    "print(\"和集合\")\n",
    "print(X|Y)\n",
    "print(\"積集合\")\n",
    "print(X&Y)\n",
    "print(\"差集合\")\n",
    "print(X-Y)"
   ]
  },
  {
   "cell_type": "markdown",
   "metadata": {},
   "source": [
    "### 07. テンプレートによる文生成  \n",
    "引数x, y, zを受け取り「x時のyはz」という文字列を返す関数を実装せよ．さらに，x=12, y=\"気温\", z=22.4として，実行結果を確認せよ．"
   ]
  },
  {
   "cell_type": "code",
   "execution_count": 18,
   "metadata": {
    "collapsed": false
   },
   "outputs": [
    {
     "name": "stdout",
     "output_type": "stream",
     "text": [
      "12時の気温は22.4\n"
     ]
    }
   ],
   "source": [
    "def at_time_AisB(x,y,z):\n",
    "    return(\"{}時の{}は{}\".format(x,y,z))\n",
    "x=12\n",
    "y=\"気温\"\n",
    "z=22.4\n",
    "print(at_time_AisB(x,y,z))"
   ]
  },
  {
   "cell_type": "markdown",
   "metadata": {},
   "source": [
    "### 08. 暗号文  (×)\n",
    "与えられた文字列の各文字を，以下の仕様で変換する関数cipherを実装せよ．\n",
    "\n",
    "英小文字ならば(219 - 文字コード)の文字に置換\n",
    "その他の文字はそのまま出力\n",
    "この関数を用い，英語のメッセージを暗号化・復号化せよ"
   ]
  },
  {
   "cell_type": "code",
   "execution_count": null,
   "metadata": {
    "collapsed": true
   },
   "outputs": [],
   "source": [
    "def cipher(text):\n",
    "    return \"\".jpin[chr(219-ord(c)) if c.islower() else c for c in text]\n",
    "\n",
    "input = \"abcdefghijk\"\n",
    "cipher(input)\n",
    "pirnt(cipher(cipher(input)))"
   ]
  },
  {
   "cell_type": "markdown",
   "metadata": {
    "collapsed": true
   },
   "source": [
    "### 09. Typoglycemia\n",
    "スペースで区切られた単語列に対して，各単語の先頭と末尾の文字は残し，それ以外の文字の順序をランダムに並び替えるプログラムを作成せよ．ただし，長さが４以下の単語は並び替えないこととする．適当な英語の文（例えば\"I couldn't believe that I could actually understand what I was reading : the phenomenal power of the human mind .\"）を与え，その実行結果を確認せよ．"
   ]
  },
  {
   "cell_type": "code",
   "execution_count": 31,
   "metadata": {
    "collapsed": false
   },
   "outputs": [
    {
     "name": "stdout",
     "output_type": "stream",
     "text": [
      "I cul'dnot bveeile that I cloud alluatcy unseantrdd what I was randieg : the pneaenhmol power of the huamn mind .\n"
     ]
    }
   ],
   "source": [
    "import random\n",
    "input =\"I couldn't believe that I could actually understand what I was reading : the phenomenal power of the human mind .\"\n",
    "def typoglycemia(input):\n",
    "    tmp = input.split()\n",
    "    TMP = [word[0]+\"\".join(random.sample(word[1:-1],len(word)-2))+word[-1] if len(word) > 4 else word for word in tmp ]\n",
    "    return \" \".join(TMP)\n",
    "print(typoglycemia(input))"
   ]
  }
 ],
 "metadata": {
  "kernelspec": {
   "display_name": "Python 3",
   "language": "python",
   "name": "python3"
  },
  "language_info": {
   "codemirror_mode": {
    "name": "ipython",
    "version": 3
   },
   "file_extension": ".py",
   "mimetype": "text/x-python",
   "name": "python",
   "nbconvert_exporter": "python",
   "pygments_lexer": "ipython3",
   "version": "3.5.2"
  }
 },
 "nbformat": 4,
 "nbformat_minor": 1
}
