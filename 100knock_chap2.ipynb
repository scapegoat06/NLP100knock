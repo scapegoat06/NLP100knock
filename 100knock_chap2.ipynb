{
 "cells": [
  {
   "cell_type": "markdown",
   "metadata": {},
   "source": [
    "第2章: UNIXコマンドの基礎\n",
    "\n",
    "hightemp.txtは，日本の最高気温の記録を「都道府県」「地点」「℃」「日」のタブ区切り形式で格納したファイルである．以下の処理を行うプログラムを作成し，hightemp.txtを入力ファイルとして実行せよ．さらに，同様の処理をUNIXコマンドでも実行し，プログラムの実行結果を確認せよ．\n",
    "\n"
   ]
  },
  {
   "cell_type": "markdown",
   "metadata": {},
   "source": [
    "#### 10. 行数のカウント  \n",
    "行数をカウントせよ．確認にはwcコマンドを用いよ．\n",
    "\n"
   ]
  },
  {
   "cell_type": "code",
   "execution_count": 6,
   "metadata": {
    "collapsed": false
   },
   "outputs": [
    {
     "name": "stdout",
     "output_type": "stream",
     "text": [
      "24\n"
     ]
    },
    {
     "data": {
      "text/plain": [
       "'\\nwc -l hightemp.txt\\n'"
      ]
     },
     "execution_count": 6,
     "metadata": {},
     "output_type": "execute_result"
    }
   ],
   "source": [
    "f = open(\"hightemp.txt\",\"r\")\n",
    "num_lines = sum([1 for line in f])\n",
    "f.close()\n",
    "print(num_lines)\n",
    "\n",
    "\"\"\"\n",
    "wc -l hightemp.txt\n",
    "\"\"\""
   ]
  },
  {
   "cell_type": "markdown",
   "metadata": {},
   "source": [
    "#### 11. タブをスペースに置換  \n",
    "タブ1文字につきスペース1文字に置換せよ．確認にはsedコマンド，trコマンド，もしくはexpandコマンドを用いよ．\n",
    "\n"
   ]
  },
  {
   "cell_type": "code",
   "execution_count": 8,
   "metadata": {
    "collapsed": false
   },
   "outputs": [],
   "source": [
    "f = open(\"hightemp.txt\",\"r\")\n",
    "g = open(\"hightemp_space.txt\",\"w\")\n",
    "for line in f:\n",
    "    new_line = line.replace(\"\\t\",\" \")\n",
    "    g.write(new_line)\n",
    "f.close()\n",
    "g.close()\n",
    "\"\"\"\n",
    "sed -e \"s/\\t/ /g\" hightemp.txt > hightemp_space_command.txt\n",
    "\"\"\""
   ]
  },
  {
   "cell_type": "markdown",
   "metadata": {},
   "source": [
    "#### 12. 1列目をcol1.txtに，2列目をcol2.txtに保存  \n",
    "各行の1列目だけを抜き出したものをcol1.txtに，2列目だけを抜き出したものをcol2.txtとしてファイルに保存せよ．確認にはcutコマンドを用いよ．\n",
    "\n"
   ]
  },
  {
   "cell_type": "code",
   "execution_count": 11,
   "metadata": {
    "collapsed": false
   },
   "outputs": [],
   "source": [
    "f = open(\"hightemp.txt\",\"r\")\n",
    "g1 = open(\"col1.txt\",\"w\")\n",
    "g2 = open(\"col2.txt\",\"w\")\n",
    "\n",
    "for line in f:\n",
    "    line_split = line.split(\"\\t\")\n",
    "    g1.write(line_split[0]+\"\\n\")\n",
    "    g2.write(line_split[1]+\"\\n\")\n",
    "f.close()\n",
    "g1.close()\n",
    "g2.close()\n",
    "\n",
    "\"\"\"\n",
    "確認\n",
    "cut -f1 hightemp.txt >col1_command.txt \n",
    "cut -f2 hightemp.txt >col2_command.txt \n",
    "\n",
    "diff -s  col1_command.txt col1.txt \n",
    "diff -s  col2_command.txt col2.txt \n",
    "\n",
    "\"\"\"\n"
   ]
  },
  {
   "cell_type": "markdown",
   "metadata": {},
   "source": [
    "#### 13. col1.txtとcol2.txtをマージ  \n",
    "12で作ったcol1.txtとcol2.txtを結合し，元のファイルの1列目と2列目をタブ区切りで並べたテキストファイルを作成せよ．確認にはpasteコマンドを用いよ．\n",
    "\n"
   ]
  },
  {
   "cell_type": "code",
   "execution_count": 14,
   "metadata": {
    "collapsed": false
   },
   "outputs": [],
   "source": [
    "f1 = open(\"col1.txt\",\"r\")\n",
    "f2 = open(\"col2.txt\",\"r\")\n",
    "g = open(\"merge.txt\",\"w\") \n",
    "for line1,line2 in zip(f1,f2):\n",
    "    line1 = line1.replace(\"\\n\",\"\")\n",
    "    g.write(\"\\t\".join([line1,line2]))\n",
    "f1.close()\n",
    "f2.close()\n",
    "g.close()\n",
    "\"\"\"\n",
    "paste -d\"\\t\" col1.txt col2.txt > merge_command.txt\n",
    "diff -s  merge_command.txt merge.txt \n",
    "\"\"\""
   ]
  },
  {
   "cell_type": "markdown",
   "metadata": {},
   "source": [
    "#### 14. 先頭からN行を出力  \n",
    "自然数Nをコマンドライン引数などの手段で受け取り，入力のうち先頭のN行だけを表示せよ．確認にはheadコマンドを用いよ．\n"
   ]
  },
  {
   "cell_type": "code",
   "execution_count": 21,
   "metadata": {
    "collapsed": false
   },
   "outputs": [
    {
     "name": "stdout",
     "output_type": "stream",
     "text": [
      "高知県\t江川崎\t41\t2013-08-12\n",
      "埼玉県\t熊谷\t40.9\t2007-08-16\n",
      "岐阜県\t多治見\t40.9\t2007-08-16\n",
      "山形県\t山形\t40.8\t1933-07-25\n",
      "山梨県\t甲府\t40.7\t2013-08-10\n",
      "和歌山県\tかつらぎ\t40.6\t1994-08-08\n",
      "静岡県\t天竜\t40.6\t1994-08-04\n",
      "山梨県\t勝沼\t40.5\t2013-08-10\n",
      "埼玉県\t越谷\t40.4\t2007-08-16\n",
      "群馬県\t館林\t40.3\t2007-08-16\n"
     ]
    }
   ],
   "source": [
    "N = 10\n",
    "f = open(\"hightemp.txt\",\"r\")\n",
    "for n, line in enumerate(f):\n",
    "    if n>=N:\n",
    "        break\n",
    "    print(line.rstrip())\n",
    "f.close()\n",
    "\n",
    "\"\"\"\n",
    "head -n 10 hightemp.txt\n",
    "\"\"\""
   ]
  },
  {
   "cell_type": "markdown",
   "metadata": {},
   "source": [
    "#### 15. 末尾のN行を出力  \n",
    "自然数Nをコマンドライン引数などの手段で受け取り，入力のうち末尾のN行だけを表示せよ．確認にはtailコマンドを用いよ．\n",
    "\n"
   ]
  },
  {
   "cell_type": "code",
   "execution_count": 29,
   "metadata": {
    "collapsed": false
   },
   "outputs": [
    {
     "name": "stdout",
     "output_type": "stream",
     "text": [
      "群馬県\t館林\t40.3\t2007-08-16\n",
      "群馬県\t上里見\t40.3\t1998-07-04\n",
      "愛知県\t愛西\t40.3\t1994-08-05\n",
      "千葉県\t牛久\t40.2\t2004-07-20\n",
      "静岡県\t佐久間\t40.2\t2001-07-24\n",
      "愛媛県\t宇和島\t40.2\t1927-07-22\n",
      "山形県\t酒田\t40.1\t1978-08-03\n",
      "岐阜県\t美濃\t40\t2007-08-16\n",
      "群馬県\t前橋\t40\t2001-07-24\n",
      "千葉県\t茂原\t39.9\t2013-08-11\n",
      "埼玉県\t鳩山\t39.9\t1997-07-05\n",
      "大阪府\t豊中\t39.9\t1994-08-08\n",
      "山梨県\t大月\t39.9\t1990-07-19\n",
      "山形県\t鶴岡\t39.9\t1978-08-03\n",
      "愛知県\t名古屋\t39.9\t1942-08-02\n"
     ]
    }
   ],
   "source": [
    "N = 15\n",
    "f = open(\"hightemp.txt\",\"r\")\n",
    "lines = f.readlines()[::-1][:N][::-1]\n",
    "for line in lines:\n",
    "    print(line.rstrip())\n",
    "f.close()\n",
    "\"\"\"\n",
    "tail -n 10 hightemp.txt\n",
    "\"\"\"\n"
   ]
  },
  {
   "cell_type": "markdown",
   "metadata": {},
   "source": [
    "#### 16. ファイルをN分割する  \n",
    "自然数Nをコマンドライン引数などの手段で受け取り，入力のファイルを行単位でN分割せよ．同様の処理をsplitコマンドで実現せよ．\n",
    "\n"
   ]
  },
  {
   "cell_type": "code",
   "execution_count": 38,
   "metadata": {
    "collapsed": false
   },
   "outputs": [
    {
     "name": "stdout",
     "output_type": "stream",
     "text": [
      "0\n",
      "高知県\t江川崎\t41\t2013-08-12\n",
      "埼玉県\t熊谷\t40.9\t2007-08-16\n",
      "岐阜県\t多治見\t40.9\t2007-08-16\n",
      "山形県\t山形\t40.8\t1933-07-25\n",
      "山梨県\t甲府\t40.7\t2013-08-10\n",
      "1\n",
      "和歌山県\tかつらぎ\t40.6\t1994-08-08\n",
      "静岡県\t天竜\t40.6\t1994-08-04\n",
      "山梨県\t勝沼\t40.5\t2013-08-10\n",
      "埼玉県\t越谷\t40.4\t2007-08-16\n",
      "群馬県\t館林\t40.3\t2007-08-16\n",
      "2\n",
      "群馬県\t上里見\t40.3\t1998-07-04\n",
      "愛知県\t愛西\t40.3\t1994-08-05\n",
      "千葉県\t牛久\t40.2\t2004-07-20\n",
      "静岡県\t佐久間\t40.2\t2001-07-24\n",
      "愛媛県\t宇和島\t40.2\t1927-07-22\n",
      "3\n",
      "山形県\t酒田\t40.1\t1978-08-03\n",
      "岐阜県\t美濃\t40\t2007-08-16\n",
      "群馬県\t前橋\t40\t2001-07-24\n",
      "千葉県\t茂原\t39.9\t2013-08-11\n",
      "埼玉県\t鳩山\t39.9\t1997-07-05\n",
      "4\n",
      "大阪府\t豊中\t39.9\t1994-08-08\n",
      "山梨県\t大月\t39.9\t1990-07-19\n",
      "山形県\t鶴岡\t39.9\t1978-08-03\n",
      "愛知県\t名古屋\t39.9\t1942-08-02\n"
     ]
    }
   ],
   "source": [
    "import math \n",
    "N = 5\n",
    "\n",
    "f = open(\"hightemp.txt\",\"r\")\n",
    "lines = f.readlines()\n",
    "\n",
    "width = math.ceil(len(lines)/N)\n",
    "\n",
    "for n in range(N):\n",
    "    print(n)\n",
    "    for line in lines[width*n:width*(n+1)]:\n",
    "            print(line.rstrip())\n",
    "f.close()\n",
    "\n",
    "\"\"\"\n",
    "コマンド保留\n",
    "\"\"\""
   ]
  },
  {
   "cell_type": "markdown",
   "metadata": {},
   "source": [
    "#### 17. １列目の文字列の異なり  \n",
    "1列目の文字列の種類（異なる文字列の集合）を求めよ．確認にはsort, uniqコマンドを用いよ．\n"
   ]
  },
  {
   "cell_type": "code",
   "execution_count": 43,
   "metadata": {
    "collapsed": false
   },
   "outputs": [
    {
     "name": "stdout",
     "output_type": "stream",
     "text": [
      "{'岐阜県', '埼玉県', '静岡県', '山形県', '大阪府', '群馬県', '愛知県', '山梨県', '愛媛県', '和歌山県', '高知県', '千葉県'}\n"
     ]
    },
    {
     "data": {
      "text/plain": [
       "'\\nコマンド保留\\n'"
      ]
     },
     "execution_count": 43,
     "metadata": {},
     "output_type": "execute_result"
    }
   ],
   "source": [
    "f = open(\"hightemp.txt\",\"r\")\n",
    "col1 = []\n",
    "for line in f:\n",
    "    col1.append(line.split(\"\\t\")[0])\n",
    "f.close()\n",
    "print(set(col1))\n",
    "\n",
    "\"\"\"\n",
    "cut -f1 hightemp.txt |sort|uniq\n",
    "\"\"\""
   ]
  },
  {
   "cell_type": "markdown",
   "metadata": {},
   "source": [
    "#### 18. 各行を3コラム目の数値の降順にソート  \n",
    "各行を3コラム目の数値の逆順で整列せよ（注意: 各行の内容は変更せずに並び替えよ）．確認にはsortコマンドを用いよ（この問題はコマンドで実行した時の結果と合わなくてもよい）．\n",
    "\n"
   ]
  },
  {
   "cell_type": "code",
   "execution_count": 47,
   "metadata": {
    "collapsed": false
   },
   "outputs": [
    {
     "name": "stdout",
     "output_type": "stream",
     "text": [
      "高知県\t江川崎\t41\t2013-08-12\n",
      "埼玉県\t熊谷\t40.9\t2007-08-16\n",
      "岐阜県\t多治見\t40.9\t2007-08-16\n",
      "山形県\t山形\t40.8\t1933-07-25\n",
      "山梨県\t甲府\t40.7\t2013-08-10\n",
      "和歌山県\tかつらぎ\t40.6\t1994-08-08\n",
      "静岡県\t天竜\t40.6\t1994-08-04\n",
      "山梨県\t勝沼\t40.5\t2013-08-10\n",
      "埼玉県\t越谷\t40.4\t2007-08-16\n",
      "群馬県\t館林\t40.3\t2007-08-16\n",
      "群馬県\t上里見\t40.3\t1998-07-04\n",
      "愛知県\t愛西\t40.3\t1994-08-05\n",
      "千葉県\t牛久\t40.2\t2004-07-20\n",
      "静岡県\t佐久間\t40.2\t2001-07-24\n",
      "愛媛県\t宇和島\t40.2\t1927-07-22\n",
      "山形県\t酒田\t40.1\t1978-08-03\n",
      "岐阜県\t美濃\t40\t2007-08-16\n",
      "群馬県\t前橋\t40\t2001-07-24\n",
      "千葉県\t茂原\t39.9\t2013-08-11\n",
      "埼玉県\t鳩山\t39.9\t1997-07-05\n",
      "大阪府\t豊中\t39.9\t1994-08-08\n",
      "山梨県\t大月\t39.9\t1990-07-19\n",
      "山形県\t鶴岡\t39.9\t1978-08-03\n",
      "愛知県\t名古屋\t39.9\t1942-08-02\n"
     ]
    }
   ],
   "source": [
    "f = open(\"hightemp.txt\",\"r\")\n",
    "lines = f.readlines()\n",
    "sorted_lines = sorted(lines, key=(lambda x:float(x.split()[2])), reverse=True)\n",
    "for line in sorted_lines:\n",
    "    print(line.rstrip())\n",
    "    \n",
    "\"\"\"\n",
    "sort -r -k3 hightemp.txt\n",
    "\"\"\""
   ]
  },
  {
   "cell_type": "markdown",
   "metadata": {},
   "source": [
    "#### 19. 各行の1コラム目の文字列の出現頻度を求め，出現頻度の高い順に並べる  ×\n",
    "各行の1列目の文字列の出現頻度を求め，その高い順に並べて表示せよ．確認にはcut, uniq, sortコマンドを用いよ．"
   ]
  },
  {
   "cell_type": "code",
   "execution_count": 52,
   "metadata": {
    "collapsed": false
   },
   "outputs": [
    {
     "name": "stdout",
     "output_type": "stream",
     "text": [
      "3 埼玉県\n",
      "3 山形県\n",
      "3 群馬県\n",
      "3 山梨県\n",
      "2 岐阜県\n",
      "2 愛知県\n",
      "2 静岡県\n",
      "2 千葉県\n",
      "1 大阪府\n",
      "1 愛媛県\n",
      "1 和歌山県\n",
      "1 高知県\n"
     ]
    }
   ],
   "source": [
    "f = open(\"hightemp.txt\",\"r\")\n",
    "freq = {}\n",
    "for line in f:\n",
    "    pref = line.split(\"\\t\")[0] \n",
    "    if pref in freq.keys():\n",
    "        freq[pref] += 1\n",
    "    else:\n",
    "        freq[pref] = 1\n",
    "\n",
    "for k,v in sorted(freq.items(),key=(lambda x:x[1]),reverse=True):\n",
    "    print(v,k)\n",
    "f.close()\n",
    "\n",
    "\"\"\"\n",
    "cut -f 1 hightemp.txt | sort  | uniq -c | sort -n -r\n",
    "\"\"\""
   ]
  },
  {
   "cell_type": "code",
   "execution_count": null,
   "metadata": {
    "collapsed": true
   },
   "outputs": [],
   "source": []
  }
 ],
 "metadata": {
  "kernelspec": {
   "display_name": "Python 3",
   "language": "python",
   "name": "python3"
  },
  "language_info": {
   "codemirror_mode": {
    "name": "ipython",
    "version": 3
   },
   "file_extension": ".py",
   "mimetype": "text/x-python",
   "name": "python",
   "nbconvert_exporter": "python",
   "pygments_lexer": "ipython3",
   "version": "3.5.2"
  }
 },
 "nbformat": 4,
 "nbformat_minor": 1
}
